{
 "cells": [
  {
   "cell_type": "code",
   "execution_count": 2,
   "metadata": {},
   "outputs": [
    {
     "name": "stdout",
     "output_type": "stream",
     "text": [
      "<Response [200]>\n",
      "{'Prediction': 1.0, 'Status': 'Success'}\n"
     ]
    }
   ],
   "source": [
    "import librosa\n",
    "import requests\n",
    "\n",
    "audio, sr = librosa.load('sample_data/carpet_correct.wav', sr=16000)\n",
    "\n",
    "response = requests.post(\"http://localhost:5000/predict\", json={\"word\":'Carpet', \"audio\":audio.tolist()})\n",
    "\n",
    "print(response)\n",
    "print(response.json())"
   ]
  }
 ],
 "metadata": {
  "kernelspec": {
   "display_name": "nn_test",
   "language": "python",
   "name": "python3"
  },
  "language_info": {
   "codemirror_mode": {
    "name": "ipython",
    "version": 3
   },
   "file_extension": ".py",
   "mimetype": "text/x-python",
   "name": "python",
   "nbconvert_exporter": "python",
   "pygments_lexer": "ipython3",
   "version": "3.11.11"
  }
 },
 "nbformat": 4,
 "nbformat_minor": 2
}
